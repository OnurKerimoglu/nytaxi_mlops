{
 "cells": [
  {
   "cell_type": "markdown",
   "id": "a8744069",
   "metadata": {},
   "source": []
  },
  {
   "cell_type": "markdown",
   "id": "7db96f20",
   "metadata": {},
   "source": [
    "## Q1\n",
    "std of March 2023 predictions: 6.24\n",
    "\n",
    "Solution:"
   ]
  },
  {
   "cell_type": "markdown",
   "id": "a72c9e50",
   "metadata": {},
   "source": [
    "### Model Training, Validation (again, just to make sure we can reproduce the previous results)"
   ]
  },
  {
   "cell_type": "code",
   "execution_count": 2,
   "id": "0bdade19",
   "metadata": {},
   "outputs": [
    {
     "name": "stdout",
     "output_type": "stream",
     "text": [
      "Fetching yellow taxi trip data for 2023-01\n",
      "Dataset contains 3066766 records and 19 columns\n",
      "98.1220282212598% of records are kept after outlier removal\n",
      "fit-transforming the features\n",
      "515 features will be used\n",
      "Training regressor of type LR\n",
      "RMSE: 7.649261929201487\n"
     ]
    }
   ],
   "source": [
    "from model_training import train_pipeline, validation_pipeline\n",
    "\n",
    "train_pipeline()"
   ]
  },
  {
   "cell_type": "code",
   "execution_count": 3,
   "id": "9aae3773",
   "metadata": {},
   "outputs": [
    {
     "name": "stdout",
     "output_type": "stream",
     "text": [
      "Fetching yellow taxi trip data for 2023-02\n",
      "Dataset contains 2913955 records and 19 columns\n",
      "98.00944077722545% of records are kept after outlier removal\n",
      "transforming the features\n",
      "515 features will be used\n",
      "RMSE: 7.811819793542861\n"
     ]
    }
   ],
   "source": [
    "import pickle\n",
    "\n",
    "with open('model.bin', 'rb') as f_in:\n",
    "    dv, model = pickle.load(f_in)\n",
    "\n",
    "validation_pipeline(dv, model)"
   ]
  },
  {
   "cell_type": "markdown",
   "id": "063d49c3",
   "metadata": {},
   "source": [
    "### Prediction"
   ]
  },
  {
   "cell_type": "code",
   "execution_count": 4,
   "id": "f57ebe22",
   "metadata": {},
   "outputs": [],
   "source": [
    "with open('model.bin', 'rb') as f_in:\n",
    "    dv, model = pickle.load(f_in)"
   ]
  },
  {
   "cell_type": "code",
   "execution_count": 5,
   "id": "2be144b7",
   "metadata": {},
   "outputs": [],
   "source": [
    "import pandas as pd\n",
    "\n",
    "categorical = ['PULocationID', 'DOLocationID']\n",
    "\n",
    "def read_data(filename):\n",
    "    df = pd.read_parquet(filename)\n",
    "    \n",
    "    df['duration'] = df.tpep_dropoff_datetime - df.tpep_pickup_datetime\n",
    "    df['duration'] = df.duration.dt.total_seconds() / 60\n",
    "\n",
    "    df = df[(df.duration >= 1) & (df.duration <= 60)].copy()\n",
    "\n",
    "    df[categorical] = df[categorical].fillna(-1).astype('int').astype('str')\n",
    "    \n",
    "    return df"
   ]
  },
  {
   "cell_type": "code",
   "execution_count": 6,
   "id": "787ce235",
   "metadata": {},
   "outputs": [],
   "source": [
    "df = read_data('https://d37ci6vzurychx.cloudfront.net/trip-data/yellow_tripdata_2023-03.parquet')"
   ]
  },
  {
   "cell_type": "code",
   "execution_count": 7,
   "id": "489e7299",
   "metadata": {},
   "outputs": [],
   "source": [
    "dicts = df[categorical].to_dict(orient='records')\n",
    "X_val = dv.transform(dicts)\n",
    "y_pred = model.predict(X_val)"
   ]
  },
  {
   "cell_type": "code",
   "execution_count": 8,
   "id": "3dec502f",
   "metadata": {},
   "outputs": [
    {
     "data": {
      "text/plain": [
       "np.float64(6.2474855298130505)"
      ]
     },
     "execution_count": 8,
     "metadata": {},
     "output_type": "execute_result"
    }
   ],
   "source": [
    "y_pred.std()"
   ]
  },
  {
   "cell_type": "markdown",
   "id": "9f00c9cf",
   "metadata": {},
   "source": [
    "## Q2\n",
    "Size of the results file is 66M.\n",
    "\n",
    "Solution:"
   ]
  },
  {
   "cell_type": "code",
   "execution_count": 9,
   "id": "2646cce4",
   "metadata": {},
   "outputs": [],
   "source": [
    "df = pd.DataFrame({'duration': y_pred})"
   ]
  },
  {
   "cell_type": "code",
   "execution_count": 10,
   "id": "1f0d2f21",
   "metadata": {},
   "outputs": [],
   "source": [
    "year = 2023\n",
    "month = 3\n",
    "df['ride_id'] = f'{year:04d}/{month:02d}_' + df.index.astype('str')"
   ]
  },
  {
   "cell_type": "code",
   "execution_count": 11,
   "id": "329e2633",
   "metadata": {},
   "outputs": [],
   "source": [
    "df.to_parquet(\n",
    "    'predictions_{}-{:02d}.parquet'.format(year, month),\n",
    "    engine='pyarrow',\n",
    "    compression=None,\n",
    "    index=False\n",
    ")"
   ]
  },
  {
   "cell_type": "code",
   "execution_count": 12,
   "id": "691da655",
   "metadata": {},
   "outputs": [
    {
     "name": "stdout",
     "output_type": "stream",
     "text": [
      "-rw-rw-r-- 1 onur onur 66M Jun 10 23:55 predictions_2023-03.parquet\n"
     ]
    }
   ],
   "source": [
    "! ls -lh predictions_2023-03.parquet"
   ]
  },
  {
   "cell_type": "markdown",
   "id": "def2ec3d",
   "metadata": {},
   "source": [
    "## Q3: Creating the scoring script\n",
    "\n",
    "the required command is : `jupyter nbconvert --to script <file_name>.ipynb` where, in this case, `file_name` is `04_Homework.ipynb`"
   ]
  },
  {
   "cell_type": "markdown",
   "id": "48965b7f",
   "metadata": {},
   "source": [
    "## Q4: Virtual environment. Hash for Scikit-learn"
   ]
  },
  {
   "cell_type": "code",
   "execution_count": null,
   "id": "110847a3",
   "metadata": {},
   "outputs": [],
   "source": []
  },
  {
   "cell_type": "markdown",
   "id": "20ec9b5d",
   "metadata": {},
   "source": [
    "## Q5: Parameterize the script\n",
    "\n",
    "The mean prediction for April 2023 is 14.29\n",
    "\n",
    "Solution:"
   ]
  },
  {
   "cell_type": "code",
   "execution_count": 1,
   "id": "ccf6f81d",
   "metadata": {},
   "outputs": [
    {
     "name": "stdout",
     "output_type": "stream",
     "text": [
      "reading from cloud: https://d37ci6vzurychx.cloudfront.net/trip-data/yellow_tripdata_2023-04.parquet\n",
      "predicted mean duration: 14.292284022509667\n"
     ]
    }
   ],
   "source": [
    "from model_prediction import TaxiDurationPredictor\n",
    "\n",
    "td_predictor = TaxiDurationPredictor('./')\n",
    "td_predictor.run(2023, 4)"
   ]
  },
  {
   "cell_type": "markdown",
   "id": "ee658921",
   "metadata": {},
   "source": [
    "## Q6\n",
    "\n",
    "Run the script with docker. What's the mean predicted duration for May 2023?\n",
    "\n",
    "Answer: 0.1917\n",
    "For the solution, see [web-service-homework](web-service-homework) directory.\n"
   ]
  },
  {
   "cell_type": "code",
   "execution_count": null,
   "id": "70999c1a",
   "metadata": {},
   "outputs": [],
   "source": []
  }
 ],
 "metadata": {
  "kernelspec": {
   "display_name": ".venv",
   "language": "python",
   "name": "python3"
  },
  "language_info": {
   "codemirror_mode": {
    "name": "ipython",
    "version": 3
   },
   "file_extension": ".py",
   "mimetype": "text/x-python",
   "name": "python",
   "nbconvert_exporter": "python",
   "pygments_lexer": "ipython3",
   "version": "3.9.15"
  }
 },
 "nbformat": 4,
 "nbformat_minor": 5
}
