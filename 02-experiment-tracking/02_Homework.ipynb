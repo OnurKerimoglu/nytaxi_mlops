{
 "cells": [
  {
   "cell_type": "markdown",
   "metadata": {},
   "source": [
    "# DataTalks.Club MLOps Zoomcamp - Homework 2"
   ]
  },
  {
   "cell_type": "markdown",
   "metadata": {},
   "source": [
    "## Q1\n",
    "Using virtual-environment, I installed mlflow, and the installed version is 2.22.0.\n",
    "\n",
    "Solution:"
   ]
  },
  {
   "cell_type": "code",
   "execution_count": 4,
   "metadata": {},
   "outputs": [
    {
     "name": "stdout",
     "output_type": "stream",
     "text": [
      "mlflow, version 2.22.0\n"
     ]
    }
   ],
   "source": [
    "!mlflow --version"
   ]
  },
  {
   "cell_type": "markdown",
   "metadata": {},
   "source": [
    "## Q2\n",
    "4 files are saved to the output folder.\n",
    "\n",
    "Solution:"
   ]
  },
  {
   "cell_type": "code",
   "execution_count": 55,
   "metadata": {},
   "outputs": [],
   "source": [
    "from preprocess_data import run_data_prep\n",
    "raw_data_path = '/home/onur/WORK/DS/repos/MLOps/nytaxi_mlops/02-experiment-tracking/data_raw'\n",
    "prepocessed_data_path = '/home/onur/WORK/DS/repos/MLOps/nytaxi_mlops/02-experiment-tracking/data_preprocessed'\n",
    "run_data_prep(\n",
    "    raw_data_path=raw_data_path,\n",
    "    dest_path=prepocessed_data_path ,\n",
    "    dataset=\"green\"\n",
    ")"
   ]
  },
  {
   "cell_type": "code",
   "execution_count": 2,
   "metadata": {},
   "outputs": [
    {
     "name": "stdout",
     "output_type": "stream",
     "text": [
      "4\n"
     ]
    }
   ],
   "source": [
    "!ls /home/onur/WORK/DS/repos/MLOps/nytaxi_mlops/02-experiment-tracking/data_preprocessed |wc -l"
   ]
  },
  {
   "cell_type": "code",
   "execution_count": 3,
   "metadata": {},
   "outputs": [
    {
     "name": "stdout",
     "output_type": "stream",
     "text": [
      "dv.pkl\ttest.pkl  train.pkl  val.pkl\n"
     ]
    }
   ],
   "source": [
    "!ls /home/onur/WORK/DS/repos/MLOps/nytaxi_mlops/02-experiment-tracking/data_preprocessed "
   ]
  },
  {
   "cell_type": "markdown",
   "metadata": {},
   "source": [
    "## Q3\n",
    "Value of the min_samples_split parameter is: 2\n",
    "\n",
    "Solution:"
   ]
  },
  {
   "cell_type": "code",
   "execution_count": 56,
   "metadata": {},
   "outputs": [],
   "source": [
    "import os\n",
    "import pickle\n",
    "\n",
    "from sklearn.ensemble import RandomForestRegressor\n",
    "from sklearn.metrics import root_mean_squared_error\n",
    "\n",
    "\n",
    "def load_pickle(filename: str):\n",
    "    with open(filename, \"rb\") as f_in:\n",
    "        return pickle.load(f_in)\n",
    "\n",
    "def run_train(data_path: str):\n",
    "\n",
    "    X_train, y_train = load_pickle(os.path.join(data_path, \"train.pkl\"))\n",
    "    X_val, y_val = load_pickle(os.path.join(data_path, \"val.pkl\"))\n",
    "\n",
    "    rf = RandomForestRegressor(max_depth=10, random_state=0)\n",
    "    rf.fit(X_train, y_train)\n",
    "    # training rmse\n",
    "    y_pred = rf.predict(X_train)\n",
    "    rmse_train = root_mean_squared_error(y_train, y_pred)\n",
    "    print (f'RMSE training: {rmse_train}')\n",
    "    # validation rmse\n",
    "    y_pred = rf.predict(X_val)\n",
    "    rmse_val = root_mean_squared_error(y_val, y_pred)\n",
    "    print (f'RMSE validation: {rmse_val}')\n",
    "    return rmse_train, rmse_val, rf\n"
   ]
  },
  {
   "cell_type": "code",
   "execution_count": null,
   "metadata": {},
   "outputs": [
    {
     "name": "stderr",
     "output_type": "stream",
     "text": [
      "2025/05/26 17:35:27 INFO mlflow.tracking.fluent: Experiment with name 'nyc-taxi-exp-2' does not exist. Creating a new experiment.\n"
     ]
    },
    {
     "name": "stderr",
     "output_type": "stream",
     "text": [
      "2025/05/26 17:35:27 INFO mlflow.tracking.fluent: Autologging successfully enabled for sklearn.\n",
      "2025/05/26 17:35:27 WARNING mlflow.spark: With Pyspark >= 3.2, PYSPARK_PIN_THREAD environment variable must be set to false for Spark datasource autologging to work.\n",
      "2025/05/26 17:35:27 INFO mlflow.tracking.fluent: Autologging successfully enabled for pyspark.\n"
     ]
    },
    {
     "name": "stdout",
     "output_type": "stream",
     "text": [
      "RMSE training: 5.204138209108148\n",
      "RMSE validation: 5.431162180141208\n"
     ]
    },
    {
     "name": "stderr",
     "output_type": "stream",
     "text": [
      "\u001b[31m2025/05/26 17:38:47 WARNING mlflow.models.model: Model logged without a signature and input example. Please set `input_example` parameter when logging the model to auto infer the model signature.\u001b[0m\n"
     ]
    },
    {
     "name": "stdout",
     "output_type": "stream",
     "text": [
      "done\n"
     ]
    }
   ],
   "source": [
    "import mlflow\n",
    "\n",
    "mlflow.set_tracking_uri(\"sqlite:///mlflow.db\")\n",
    "mlflow.set_experiment(\"nyc-taxi-exp-2\")\n",
    "mlflow.autolog()\n",
    "\n",
    "\n",
    "raw_data_path = '/home/onur/WORK/DS/repos/MLOps/nytaxi_mlops/02-experiment-tracking/data_raw'\n",
    "prepocessed_data_path = '/home/onur/WORK/DS/repos/MLOps/nytaxi_mlops/02-experiment-tracking/data_preprocessed'\n",
    "# Save the preprocessor as an artifact in the artifacts folder\n",
    "with open(os.path.join(prepocessed_data_path, \"dv.pkl\"), \"rb\") as f_in: \n",
    "    dv = pickle.load(f_in)\n",
    "artifacts_preprocessor_path = '/home/onur/WORK/DS/repos/MLOps/nytaxi_mlops/02-experiment-tracking/artifacts_preprocessor'\n",
    "preprocessor_fpath = os.path.join(artifacts_preprocessor_path, 'preprocesssor_dv.b')\n",
    "with open(preprocessor_fpath, 'wb') as f_out:\n",
    "    pickle.dump(dv, f_out)\n",
    "\n",
    "with mlflow.start_run():\n",
    "\n",
    "    mlflow.set_tag(\"developer\", \"onur\")\n",
    "    mlflow.log_param(\"train_data_path\", os.path.join(raw_data_path, \"green_tripdata_2023-01.parquet\"))\n",
    "    mlflow.log_param(\"val_data_path\", os.path.join(raw_data_path, \"green_tripdata_2023-02.parquet\"))\n",
    "    mlflow.log_param(\"test_data_path\", os.path.join(raw_data_path, \"green_tripdata_2023-03.parquet\"))\n",
    "\n",
    "    rmse_train, rmse_val, rf = run_train(prepocessed_data_path)\n",
    "\n",
    "    mlflow.log_metric(\"rmse_train\", rmse_train)\n",
    "    mlflow.log_metric(\"rmse_val\", rmse_val)\n",
    "\n",
    "    # save and log the model (actually this will result in a duplicate artifact, as the autologging is also saving the model)\n",
    "    mlflow.sklearn.log_model(rf, artifact_path='models_mlflow')\n",
    "    # log the preprocessor\n",
    "    mlflow.log_artifact(preprocessor_fpath, artifact_path='preprocessor')\n",
    "\n",
    "mlflow.end_run()\n",
    "print('done')"
   ]
  },
  {
   "cell_type": "code",
   "execution_count": 69,
   "metadata": {},
   "outputs": [
    {
     "data": {
      "text/plain": [
       "[<Experiment: artifact_location='/home/onur/WORK/DS/repos/MLOps/nytaxi_mlops/02-experiment-tracking/mlruns/2', creation_time=1748273727650, experiment_id='2', last_update_time=1748273727650, lifecycle_stage='active', name='nyc-taxi-exp-2', tags={}>,\n",
       " <Experiment: artifact_location='mlflow-artifacts:/0', creation_time=1748264367241, experiment_id='0', last_update_time=1748264367241, lifecycle_stage='active', name='Default', tags={}>]"
      ]
     },
     "execution_count": 69,
     "metadata": {},
     "output_type": "execute_result"
    }
   ],
   "source": [
    "from mlflow.tracking import MlflowClient\n",
    "mlflow_client = MlflowClient()\n",
    "mlflow_client.search_experiments()"
   ]
  },
  {
   "cell_type": "code",
   "execution_count": null,
   "metadata": {},
   "outputs": [
    {
     "data": {
      "text/plain": [
       "'2'"
      ]
     },
     "execution_count": 70,
     "metadata": {},
     "output_type": "execute_result"
    }
   ],
   "source": [
    "runs = mlflow_client.search_runs(experiment_ids='2')\n",
    "run = mlflow_client.get_run(run_id=runs[0].info.run_id)\n",
    "run.data.params['min_samples_split']"
   ]
  },
  {
   "cell_type": "code",
   "execution_count": 71,
   "metadata": {},
   "outputs": [
    {
     "name": "stdout",
     "output_type": "stream",
     "text": [
      "Run parameters:\n",
      "  train_data_path: /home/onur/WORK/DS/repos/MLOps/nytaxi_mlops/02-experiment-tracking/data_raw/green_tripdata_2023-01.parquet\n",
      "  val_data_path: /home/onur/WORK/DS/repos/MLOps/nytaxi_mlops/02-experiment-tracking/data_raw/green_tripdata_2023-02.parquet\n",
      "  test_data_path: /home/onur/WORK/DS/repos/MLOps/nytaxi_mlops/02-experiment-tracking/data_raw/green_tripdata_2023-03.parquet\n",
      "  bootstrap: True\n",
      "  ccp_alpha: 0.0\n",
      "  criterion: squared_error\n",
      "  max_depth: 10\n",
      "  max_features: 1.0\n",
      "  max_leaf_nodes: None\n",
      "  max_samples: None\n",
      "  min_impurity_decrease: 0.0\n",
      "  min_samples_leaf: 1\n",
      "  min_samples_split: 2\n",
      "  min_weight_fraction_leaf: 0.0\n",
      "  monotonic_cst: None\n",
      "  n_estimators: 100\n",
      "  n_jobs: None\n",
      "  oob_score: False\n",
      "  random_state: 0\n",
      "  verbose: 0\n",
      "  warm_start: False\n",
      "Run metrics:\n",
      "  training_mean_squared_error: 27.083054499499358\n",
      "  training_mean_absolute_error: 3.4244701942312354\n",
      "  training_r2_score: 0.6673983775155525\n",
      "  training_root_mean_squared_error: 5.204138209108148\n",
      "  training_score: 0.6673983775155525\n",
      "  root_mean_squared_error_X_train: 5.204138209108148\n",
      "  root_mean_squared_error-2_X_val: 5.431162180141208\n",
      "  rmse_train: 5.204138209108148\n",
      "  rmse_val: 5.431162180141208\n"
     ]
    }
   ],
   "source": [
    "# other parameters (just for curiosity)\n",
    "print('Run parameters:')\n",
    "for key, value in run.data.params.items():\n",
    "    print(f'  {key}: {value}')\n",
    "\n",
    "print('Run metrics:')\n",
    "for key, value in run.data.metrics.items():\n",
    "    print(f'  {key}: {value}') "
   ]
  },
  {
   "cell_type": "markdown",
   "metadata": {},
   "source": [
    "## Q4\n",
    "\n",
    "To properly configure the server, in addition to backend-store-uri, we need to pass the 'default-artifact-root' parameter, as follows:\n",
    "\n",
    "`mlflow server --backend-store-uri sqlite:///mlflow.db --default-artifact-root ./artifacts`\n"
   ]
  },
  {
   "cell_type": "markdown",
   "metadata": {},
   "source": [
    "## Q5\n",
    "\n",
    "The best validation RMSE I got is: 5.335\n",
    "\n",
    "Solution:"
   ]
  },
  {
   "cell_type": "code",
   "execution_count": 76,
   "metadata": {},
   "outputs": [],
   "source": [
    "import os\n",
    "import pickle\n",
    "import mlflow\n",
    "import numpy as np\n",
    "from hyperopt import STATUS_OK, Trials, fmin, hp, tpe\n",
    "from hyperopt.pyll import scope\n",
    "from sklearn.ensemble import RandomForestRegressor\n",
    "from sklearn.metrics import root_mean_squared_error\n",
    "\n",
    "\n",
    "def load_pickle(filename: str):\n",
    "    with open(filename, \"rb\") as f_in:\n",
    "        return pickle.load(f_in)\n",
    "\n",
    "\n",
    "def run_optimization(\n",
    "        data_path:str,\n",
    "        num_trials:int=15):\n",
    "\n",
    "    X_train, y_train = load_pickle(os.path.join(data_path, \"train.pkl\"))\n",
    "    X_val, y_val = load_pickle(os.path.join(data_path, \"val.pkl\"))\n",
    "\n",
    "    def objective(params):\n",
    "\n",
    "        with mlflow.start_run():\n",
    "            mlflow.log_params(params)\n",
    "            rf = RandomForestRegressor(**params)\n",
    "            rf.fit(X_train, y_train)\n",
    "            y_pred = rf.predict(X_val)\n",
    "            rmse = root_mean_squared_error(y_val, y_pred)\n",
    "            \n",
    "            mlflow.log_metric(\"rmse\", rmse)\n",
    "        \n",
    "        mlflow.end_run()\n",
    "        return {'loss': rmse, 'status': STATUS_OK}\n",
    "\n",
    "    search_space = {\n",
    "        'max_depth': scope.int(hp.quniform('max_depth', 1, 20, 1)),\n",
    "        'n_estimators': scope.int(hp.quniform('n_estimators', 10, 50, 1)),\n",
    "        'min_samples_split': scope.int(hp.quniform('min_samples_split', 2, 10, 1)),\n",
    "        'min_samples_leaf': scope.int(hp.quniform('min_samples_leaf', 1, 4, 1)),\n",
    "        'random_state': 42\n",
    "    }\n",
    "\n",
    "    rstate = np.random.default_rng(42)  # for reproducible results\n",
    "    fmin(\n",
    "        fn=objective,\n",
    "        space=search_space,\n",
    "        algo=tpe.suggest,\n",
    "        max_evals=num_trials,\n",
    "        trials=Trials(),\n",
    "        rstate=rstate\n",
    "    )"
   ]
  },
  {
   "cell_type": "code",
   "execution_count": 77,
   "metadata": {},
   "outputs": [
    {
     "name": "stdout",
     "output_type": "stream",
     "text": [
      "  0%|          | 0/15 [00:00<?, ?trial/s, best loss=?]"
     ]
    },
    {
     "name": "stdout",
     "output_type": "stream",
     "text": [
      "🏃 View run intrigued-sheep-845 at: http://127.0.0.1:5000/#/experiments/3/runs/22b143deda554c4aadcee4aa069afd66\n",
      "\n",
      "🧪 View experiment at: http://127.0.0.1:5000/#/experiments/3\n",
      "\n",
      "🏃 View run gifted-kit-810 at: http://127.0.0.1:5000/#/experiments/3/runs/37dfe3186419435e825c69f8e80d15dc\n",
      "\n",
      "🧪 View experiment at: http://127.0.0.1:5000/#/experiments/3                   \n",
      "\n",
      "🏃 View run upbeat-hen-972 at: http://127.0.0.1:5000/#/experiments/3/runs/4a6da5823fff4be9803da2b14753ea19\n",
      "\n",
      "🧪 View experiment at: http://127.0.0.1:5000/#/experiments/3                   \n",
      "\n",
      "🏃 View run luxuriant-shark-875 at: http://127.0.0.1:5000/#/experiments/3/runs/f2c3def4a9ad4e0bac2b93ffbc01db09\n",
      "\n",
      "🧪 View experiment at: http://127.0.0.1:5000/#/experiments/3                   \n",
      "\n",
      "🏃 View run silent-owl-881 at: http://127.0.0.1:5000/#/experiments/3/runs/488442cbe3a0417d9e7ae5ce264e5177\n",
      "\n",
      "🧪 View experiment at: http://127.0.0.1:5000/#/experiments/3                   \n",
      "\n",
      "🏃 View run unruly-pig-303 at: http://127.0.0.1:5000/#/experiments/3/runs/ef8950ee1c5d428ba83c6bfe5e137c80\n",
      "\n",
      "🧪 View experiment at: http://127.0.0.1:5000/#/experiments/3                   \n",
      "\n",
      "🏃 View run bedecked-squid-380 at: http://127.0.0.1:5000/#/experiments/3/runs/002b40ee01b342de944ef2d4e856da81\n",
      "\n",
      "🧪 View experiment at: http://127.0.0.1:5000/#/experiments/3                   \n",
      "\n",
      "🏃 View run colorful-koi-952 at: http://127.0.0.1:5000/#/experiments/3/runs/6a1300a31f0e479899fbb5b97c42122e\n",
      "\n",
      "🧪 View experiment at: http://127.0.0.1:5000/#/experiments/3                   \n",
      "\n",
      "🏃 View run lyrical-rook-68 at: http://127.0.0.1:5000/#/experiments/3/runs/9d75295740784913ac9bc3e1f2c8437d\n",
      "\n",
      "🧪 View experiment at: http://127.0.0.1:5000/#/experiments/3                   \n",
      "\n",
      "🏃 View run fortunate-steed-383 at: http://127.0.0.1:5000/#/experiments/3/runs/5e610742a707422cb2f53d342948fa6f\n",
      "\n",
      "🧪 View experiment at: http://127.0.0.1:5000/#/experiments/3                   \n",
      "\n",
      "🏃 View run sneaky-worm-301 at: http://127.0.0.1:5000/#/experiments/3/runs/260b82c646e14dd98efcd3482f7b8898\n",
      "\n",
      "🧪 View experiment at: http://127.0.0.1:5000/#/experiments/3                    \n",
      "\n",
      "🏃 View run angry-gnu-433 at: http://127.0.0.1:5000/#/experiments/3/runs/2f1eb52bba8e46c38e8f16d560d16398\n",
      "\n",
      "🧪 View experiment at: http://127.0.0.1:5000/#/experiments/3                    \n",
      "\n",
      "🏃 View run receptive-grouse-113 at: http://127.0.0.1:5000/#/experiments/3/runs/c06dac2d74d24301ad25cc77d5dc37d2\n",
      "\n",
      "🧪 View experiment at: http://127.0.0.1:5000/#/experiments/3                    \n",
      "\n",
      "🏃 View run bald-fly-636 at: http://127.0.0.1:5000/#/experiments/3/runs/9247a22f781d4674919352260d7931b1\n",
      "\n",
      "🧪 View experiment at: http://127.0.0.1:5000/#/experiments/3                    \n",
      "\n",
      "🏃 View run defiant-smelt-942 at: http://127.0.0.1:5000/#/experiments/3/runs/83e4f608920c474d9c1840f7401cebf7\n",
      "\n",
      "🧪 View experiment at: http://127.0.0.1:5000/#/experiments/3                    \n",
      "\n",
      "100%|██████████| 15/15 [09:34<00:00, 38.32s/trial, best loss: 5.335419588556921]\n"
     ]
    }
   ],
   "source": [
    "mlflow.set_tracking_uri(\"http://127.0.0.1:5000\")\n",
    "mlflow.set_experiment(\"nyc-taxi-RF-hyperopt\")\n",
    "\n",
    "run_optimization(\n",
    "    data_path=prepocessed_data_path\n",
    ")\n"
   ]
  },
  {
   "cell_type": "code",
   "execution_count": 78,
   "metadata": {},
   "outputs": [
    {
     "data": {
      "text/plain": [
       "[<Experiment: artifact_location='/home/onur/WORK/DS/repos/MLOps/nytaxi_mlops/02-experiment-tracking/artifacts/3', creation_time=1748280191640, experiment_id='3', last_update_time=1748280191640, lifecycle_stage='active', name='nyc-taxi-RF-hyperopt', tags={}>,\n",
       " <Experiment: artifact_location='/home/onur/WORK/DS/repos/MLOps/nytaxi_mlops/02-experiment-tracking/mlruns/2', creation_time=1748273727650, experiment_id='2', last_update_time=1748273727650, lifecycle_stage='active', name='nyc-taxi-exp-2', tags={}>,\n",
       " <Experiment: artifact_location='mlflow-artifacts:/0', creation_time=1748264367241, experiment_id='0', last_update_time=1748264367241, lifecycle_stage='active', name='Default', tags={}>]"
      ]
     },
     "execution_count": 78,
     "metadata": {},
     "output_type": "execute_result"
    }
   ],
   "source": [
    "from mlflow.tracking import MlflowClient\n",
    "from mlflow.entities import ViewType\n",
    "mlflow_client = MlflowClient()\n",
    "mlflow_client.search_experiments()"
   ]
  },
  {
   "cell_type": "code",
   "execution_count": null,
   "metadata": {},
   "outputs": [],
   "source": [
    "runs = mlflow_client.search_runs(\n",
    "    experiment_ids='3',\n",
    "    # filter_string='',\n",
    "    run_view_type=ViewType.ACTIVE_ONLY,\n",
    "    max_results=3,\n",
    "    order_by=[\"metrics.rmse ASC\"]\n",
    "    )"
   ]
  },
  {
   "cell_type": "code",
   "execution_count": 84,
   "metadata": {},
   "outputs": [
    {
     "name": "stdout",
     "output_type": "stream",
     "text": [
      "run id: 260b82c646e14dd98efcd3482f7b8898, rmse: 5.335\n",
      "run id: ef8950ee1c5d428ba83c6bfe5e137c80, rmse: 5.355\n",
      "run id: 83e4f608920c474d9c1840f7401cebf7, rmse: 5.355\n",
      "run id: f2c3def4a9ad4e0bac2b93ffbc01db09, rmse: 5.357\n",
      "run id: 5e610742a707422cb2f53d342948fa6f, rmse: 5.363\n"
     ]
    }
   ],
   "source": [
    "for run in runs:\n",
    "    print(f\"run id: {run.info.run_id}, rmse: {run.data.metrics['rmse']:.3f}\")"
   ]
  },
  {
   "cell_type": "markdown",
   "metadata": {},
   "source": [
    "## Q6\n",
    "\n",
    "The test RMSE of the best model is: 5.567\n",
    "\n",
    "Solution:"
   ]
  },
  {
   "cell_type": "code",
   "execution_count": 85,
   "metadata": {},
   "outputs": [],
   "source": [
    "import os\n",
    "import pickle\n",
    "import click\n",
    "import mlflow\n",
    "\n",
    "from mlflow.entities import ViewType\n",
    "from mlflow.tracking import MlflowClient\n",
    "from sklearn.ensemble import RandomForestRegressor\n",
    "from sklearn.metrics import mean_squared_error\n",
    "\n",
    "\n",
    "HPO_EXPERIMENT_NAME = \"nyc-taxi-RF-hyperopt\"\n",
    "RF_PARAMS = ['max_depth', 'n_estimators', 'min_samples_split', 'min_samples_leaf', 'random_state']\n",
    "\n",
    "def load_pickle(filename):\n",
    "    with open(filename, \"rb\") as f_in:\n",
    "        return pickle.load(f_in)\n",
    "\n",
    "\n",
    "def train_and_log_model(data_path, params):\n",
    "    X_train, y_train = load_pickle(os.path.join(data_path, \"train.pkl\"))\n",
    "    X_val, y_val = load_pickle(os.path.join(data_path, \"val.pkl\"))\n",
    "    X_test, y_test = load_pickle(os.path.join(data_path, \"test.pkl\"))\n",
    "\n",
    "    with mlflow.start_run():\n",
    "        new_params = {}\n",
    "        for param in RF_PARAMS:\n",
    "            new_params[param] = int(params[param])\n",
    "\n",
    "        mlflow.log_params(new_params)\n",
    "        rf = RandomForestRegressor(**new_params)\n",
    "        rf.fit(X_train, y_train)\n",
    "\n",
    "        # Evaluate model on the validation and test sets\n",
    "        val_rmse = root_mean_squared_error(y_val, rf.predict(X_val))\n",
    "        mlflow.log_metric(\"val_rmse\", val_rmse)\n",
    "        test_rmse = root_mean_squared_error(y_test, rf.predict(X_test))\n",
    "        mlflow.log_metric(\"test_rmse\", test_rmse)\n",
    "\n",
    "\n",
    "def run_register_model(data_path: str, top_n: int):\n",
    "\n",
    "    client = MlflowClient()\n",
    "\n",
    "    # Retrieve the top_n model runs and log the models\n",
    "    experiment = client.get_experiment_by_name(HPO_EXPERIMENT_NAME)\n",
    "    runs = client.search_runs(\n",
    "        experiment_ids=experiment.experiment_id,\n",
    "        run_view_type=ViewType.ACTIVE_ONLY,\n",
    "        max_results=top_n,\n",
    "        order_by=[\"metrics.rmse ASC\"]\n",
    "    )\n",
    "    for run in runs:\n",
    "        train_and_log_model(data_path=data_path, params=run.data.params)"
   ]
  },
  {
   "cell_type": "code",
   "execution_count": 87,
   "metadata": {},
   "outputs": [
    {
     "name": "stdout",
     "output_type": "stream",
     "text": [
      "🏃 View run intrigued-tern-598 at: http://127.0.0.1:5000/#/experiments/4/runs/2e1d7f7fa84c4d93991acd5a372768ab\n",
      "🧪 View experiment at: http://127.0.0.1:5000/#/experiments/4\n",
      "🏃 View run nebulous-lynx-189 at: http://127.0.0.1:5000/#/experiments/4/runs/c75ea79a82a84710a126a2efac846736\n",
      "🧪 View experiment at: http://127.0.0.1:5000/#/experiments/4\n",
      "🏃 View run salty-fowl-284 at: http://127.0.0.1:5000/#/experiments/4/runs/0c85244770974913bdfb387760812f4d\n",
      "🧪 View experiment at: http://127.0.0.1:5000/#/experiments/4\n",
      "🏃 View run placid-penguin-712 at: http://127.0.0.1:5000/#/experiments/4/runs/9f1e1fbc70ff476cb8e4e28762a799fb\n",
      "🧪 View experiment at: http://127.0.0.1:5000/#/experiments/4\n",
      "🏃 View run enchanting-robin-165 at: http://127.0.0.1:5000/#/experiments/4/runs/1136644bb73e445f9382a8680441ef02\n",
      "🧪 View experiment at: http://127.0.0.1:5000/#/experiments/4\n"
     ]
    }
   ],
   "source": [
    "mlflow.set_tracking_uri(\"http://127.0.0.1:5000\")\n",
    "EXPERIMENT_NAME = \"nyc-taxi-register-best-models\"\n",
    "mlflow.set_experiment(EXPERIMENT_NAME)\n",
    "mlflow.sklearn.autolog()\n",
    "\n",
    "run_register_model(\n",
    "    data_path=prepocessed_data_path,\n",
    "    top_n=5\n",
    ")"
   ]
  },
  {
   "cell_type": "code",
   "execution_count": 88,
   "metadata": {},
   "outputs": [
    {
     "data": {
      "text/plain": [
       "[<Experiment: artifact_location='/home/onur/WORK/DS/repos/MLOps/nytaxi_mlops/02-experiment-tracking/artifacts/4', creation_time=1748283823272, experiment_id='4', last_update_time=1748283823272, lifecycle_stage='active', name='nyc-taxi-register-best-models', tags={}>,\n",
       " <Experiment: artifact_location='/home/onur/WORK/DS/repos/MLOps/nytaxi_mlops/02-experiment-tracking/artifacts/3', creation_time=1748280191640, experiment_id='3', last_update_time=1748280191640, lifecycle_stage='active', name='nyc-taxi-RF-hyperopt', tags={}>,\n",
       " <Experiment: artifact_location='/home/onur/WORK/DS/repos/MLOps/nytaxi_mlops/02-experiment-tracking/mlruns/2', creation_time=1748273727650, experiment_id='2', last_update_time=1748273727650, lifecycle_stage='active', name='nyc-taxi-exp-2', tags={}>,\n",
       " <Experiment: artifact_location='mlflow-artifacts:/0', creation_time=1748264367241, experiment_id='0', last_update_time=1748264367241, lifecycle_stage='active', name='Default', tags={}>]"
      ]
     },
     "execution_count": 88,
     "metadata": {},
     "output_type": "execute_result"
    }
   ],
   "source": [
    "from mlflow.tracking import MlflowClient\n",
    "from mlflow.entities import ViewType\n",
    "mlflow_client = MlflowClient()\n",
    "mlflow_client.search_experiments()"
   ]
  },
  {
   "cell_type": "code",
   "execution_count": 89,
   "metadata": {},
   "outputs": [],
   "source": [
    "experiment = mlflow_client.get_experiment_by_name(EXPERIMENT_NAME)"
   ]
  },
  {
   "cell_type": "code",
   "execution_count": 91,
   "metadata": {},
   "outputs": [],
   "source": [
    "runs = mlflow_client.search_runs(\n",
    "    experiment_ids=experiment.experiment_id,\n",
    "    # filter_string='',\n",
    "    run_view_type=ViewType.ACTIVE_ONLY,\n",
    "    max_results=5,\n",
    "    order_by=[\"metrics.test_rmse ASC\"]\n",
    "    )"
   ]
  },
  {
   "cell_type": "code",
   "execution_count": null,
   "metadata": {},
   "outputs": [
    {
     "name": "stdout",
     "output_type": "stream",
     "text": [
      "run id: 2e1d7f7fa84c4d93991acd5a372768ab, test-rmse: 5.567\n",
      "run id: c75ea79a82a84710a126a2efac846736, test-rmse: 5.585\n",
      "run id: 9f1e1fbc70ff476cb8e4e28762a799fb, test-rmse: 5.589\n",
      "run id: 0c85244770974913bdfb387760812f4d, test-rmse: 5.592\n",
      "run id: 1136644bb73e445f9382a8680441ef02, test-rmse: 5.594\n"
     ]
    }
   ],
   "source": [
    "# list the test-rmse's\n",
    "for run in runs:\n",
    "    print(f\"run id: {run.info.run_id}, test-rmse: {run.data.metrics['test_rmse']:.3f}\")"
   ]
  },
  {
   "cell_type": "code",
   "execution_count": 136,
   "metadata": {},
   "outputs": [
    {
     "name": "stderr",
     "output_type": "stream",
     "text": [
      "Successfully registered model 'nyc-taxi-regressor-candidates'.\n",
      "2025/05/27 11:02:22 INFO mlflow.store.model_registry.abstract_store: Waiting up to 300 seconds for model version to finish creation. Model name: nyc-taxi-regressor-candidates, version 1\n",
      "Created version '1' of model 'nyc-taxi-regressor-candidates'.\n"
     ]
    }
   ],
   "source": [
    "# Register the best 2 models:\n",
    "model_name = \"nyc-taxi-regressor-candidates\"\n",
    "best_run_id = runs[0].info.run_id\n",
    "best_model_uri = f\"runs:/{best_run_id}/model\"\n",
    "mlflow.register_model(\n",
    "    model_uri=best_model_uri,\n",
    "    name=model_name\n",
    ")\n",
    "mlflow_client.set_registered_model_alias(\n",
    "    model_name,\n",
    "    \"champion\",\n",
    "    1)\n",
    "mlflow_client.set_model_version_tag(\n",
    "    model_name,\n",
    "    \"1\",\n",
    "    \"validation_status\",\n",
    "    \"approved\")\n"
   ]
  },
  {
   "cell_type": "code",
   "execution_count": null,
   "metadata": {},
   "outputs": [
    {
     "name": "stderr",
     "output_type": "stream",
     "text": [
      "Registered model 'nyc-taxi-regressor-candidates' already exists. Creating a new version of this model...\n",
      "2025/05/27 11:02:43 INFO mlflow.store.model_registry.abstract_store: Waiting up to 300 seconds for model version to finish creation. Model name: nyc-taxi-regressor-candidates, version 2\n",
      "Created version '2' of model 'nyc-taxi-regressor-candidates'.\n"
     ]
    }
   ],
   "source": [
    "best_run_id = runs[1].info.run_id\n",
    "best_model_uri = f\"runs:/{best_run_id}/model\"\n",
    "mlflow.register_model(\n",
    "    model_uri=best_model_uri,\n",
    "    name=model_name\n",
    ")\n",
    "mlflow_client.set_registered_model_alias(\n",
    "    model_name,\n",
    "    \"challenger\",\n",
    "    2)\n",
    "mlflow_client.set_model_version_tag(\n",
    "    model_name,\n",
    "    \"2\",\n",
    "    \"validation_status\",\n",
    "    \"pending\")"
   ]
  },
  {
   "cell_type": "code",
   "execution_count": 138,
   "metadata": {},
   "outputs": [
    {
     "name": "stdout",
     "output_type": "stream",
     "text": [
      "name: nyc-taxi-regressor-candidates, aliases: {'challenger': '2', 'champion': '1'}\n"
     ]
    }
   ],
   "source": [
    "models = mlflow_client.search_registered_models()\n",
    "for i, model in enumerate(models):\n",
    "    print(f\"name: {model.name}, aliases: {model.aliases}\")\n",
    "    # client.get_model_version_by_alias(model.name, \"Champion\")\n",
    "    "
   ]
  },
  {
   "cell_type": "code",
   "execution_count": 139,
   "metadata": {},
   "outputs": [
    {
     "data": {
      "text/plain": [
       "{'challenger': '2', 'champion': '1'}"
      ]
     },
     "execution_count": 139,
     "metadata": {},
     "output_type": "execute_result"
    }
   ],
   "source": [
    "model = mlflow_client.get_registered_model(model_name)\n",
    "model.aliases"
   ]
  },
  {
   "cell_type": "code",
   "execution_count": null,
   "metadata": {},
   "outputs": [
    {
     "name": "stderr",
     "output_type": "stream",
     "text": [
      "Successfully registered model 'nyc-taxi-regressor-stag'.\n",
      "Copied version '1' of model 'nyc-taxi-regressor-candidates' to version '1' of model 'nyc-taxi-regressor-stag'.\n"
     ]
    },
    {
     "data": {
      "text/plain": [
       "<ModelVersion: aliases=[], creation_timestamp=1748336852967, current_stage='None', description='', last_updated_timestamp=1748336852967, name='nyc-taxi-regressor-stag', run_id='2e1d7f7fa84c4d93991acd5a372768ab', run_link='', source='models:/nyc-taxi-regressor-candidates/1', status='READY', status_message=None, tags={'validation_status': 'approved'}, user_id='', version='1'>"
      ]
     },
     "execution_count": 140,
     "metadata": {},
     "output_type": "execute_result"
    }
   ],
   "source": [
    "# Stage the model\n",
    "model_name_stag = \"nyc-taxi-regressor-stag\"\n",
    "mlflow_client.copy_model_version(\n",
    "    src_model_uri=f\"models:/{model_name}@champion\",\n",
    "    dst_name=model_name_stag,\n",
    ")\n",
    "mlflow_client.set_registered_model_alias(\n",
    "    model_name_stag,\n",
    "    \"staging_champion\",\n",
    "    1)"
   ]
  },
  {
   "cell_type": "code",
   "execution_count": null,
   "metadata": {},
   "outputs": [
    {
     "name": "stderr",
     "output_type": "stream",
     "text": [
      "Successfully registered model 'nyc-taxi-regressor-prod'.\n",
      "Copied version '1' of model 'nyc-taxi-regressor-stag' to version '1' of model 'nyc-taxi-regressor-prod'.\n"
     ]
    },
    {
     "data": {
      "text/plain": [
       "<ModelVersion: aliases=[], creation_timestamp=1748337501170, current_stage='None', description='', last_updated_timestamp=1748337501170, name='nyc-taxi-regressor-prod', run_id='2e1d7f7fa84c4d93991acd5a372768ab', run_link='', source='models:/nyc-taxi-regressor-stag/1', status='READY', status_message=None, tags={'validation_status': 'approved'}, user_id='', version='1'>"
      ]
     },
     "execution_count": 142,
     "metadata": {},
     "output_type": "execute_result"
    }
   ],
   "source": [
    "# Productionize the model\n",
    "model_name_prod = \"nyc-taxi-regressor-prod\"\n",
    "mlflow_client.copy_model_version(\n",
    "    src_model_uri=f\"models:/{model_name_stag}@staging_champion\",\n",
    "    dst_name=model_name_prod\n",
    ")\n",
    "mlflow_client.set_registered_model_alias(\n",
    "    model_name_prod,\n",
    "    \"theone\",\n",
    "    1)"
   ]
  }
 ],
 "metadata": {
  "kernelspec": {
   "display_name": ".venv",
   "language": "python",
   "name": "python3"
  },
  "language_info": {
   "codemirror_mode": {
    "name": "ipython",
    "version": 3
   },
   "file_extension": ".py",
   "mimetype": "text/x-python",
   "name": "python",
   "nbconvert_exporter": "python",
   "pygments_lexer": "ipython3",
   "version": "3.9.15"
  }
 },
 "nbformat": 4,
 "nbformat_minor": 2
}
